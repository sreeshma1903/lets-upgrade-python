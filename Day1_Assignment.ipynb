{
  "nbformat": 4,
  "nbformat_minor": 0,
  "metadata": {
    "colab": {
      "name": "Day1 Assignment.ipynb",
      "provenance": []
    },
    "kernelspec": {
      "name": "python3",
      "display_name": "Python 3"
    }
  },
  "cells": [
    {
      "cell_type": "markdown",
      "metadata": {
        "id": "-XjQFiFRJvqY",
        "colab_type": "text"
      },
      "source": [
        "LIST(QUESTION1)"
      ]
    },
    {
      "cell_type": "code",
      "metadata": {
        "id": "F87bvI526dWT",
        "colab_type": "code",
        "colab": {}
      },
      "source": [
        "#Question1\n",
        "#list of animals\n",
        "#using append"
      ],
      "execution_count": null,
      "outputs": []
    },
    {
      "cell_type": "code",
      "metadata": {
        "id": "dVZld3418gV_",
        "colab_type": "code",
        "colab": {}
      },
      "source": [
        "list=[\"dog\",\"cat\",\"rabbit\"]"
      ],
      "execution_count": null,
      "outputs": []
    },
    {
      "cell_type": "code",
      "metadata": {
        "id": "lqgtzzwJ80M_",
        "colab_type": "code",
        "colab": {}
      },
      "source": [
        "list.append('tiger')"
      ],
      "execution_count": 18,
      "outputs": []
    },
    {
      "cell_type": "code",
      "metadata": {
        "id": "3ar4MLAN_zmm",
        "colab_type": "code",
        "colab": {
          "base_uri": "https://localhost:8080/",
          "height": 34
        },
        "outputId": "90f2e411-ab10-49c8-c72d-10e9494306f7"
      },
      "source": [
        "print(list)"
      ],
      "execution_count": 20,
      "outputs": [
        {
          "output_type": "stream",
          "text": [
            "['dog', 'cat', 'rabbit', 'tiger', 'tiger']\n"
          ],
          "name": "stdout"
        }
      ]
    },
    {
      "cell_type": "code",
      "metadata": {
        "id": "vRvD6XXo_-UL",
        "colab_type": "code",
        "colab": {}
      },
      "source": [
        "#using insert\n",
        "list.insert(1,\"lion\")"
      ],
      "execution_count": 21,
      "outputs": []
    },
    {
      "cell_type": "code",
      "metadata": {
        "id": "AIjcHWZ_Aduk",
        "colab_type": "code",
        "colab": {
          "base_uri": "https://localhost:8080/",
          "height": 34
        },
        "outputId": "1f37e14e-6009-4e31-ab61-369ec8409d06"
      },
      "source": [
        "print(list)"
      ],
      "execution_count": 22,
      "outputs": [
        {
          "output_type": "stream",
          "text": [
            "['dog', 'lion', 'cat', 'rabbit', 'tiger', 'tiger']\n"
          ],
          "name": "stdout"
        }
      ]
    },
    {
      "cell_type": "code",
      "metadata": {
        "id": "Ttv9uzHDAke0",
        "colab_type": "code",
        "colab": {}
      },
      "source": [
        "#using extend \n",
        "list1=[1,2,3,4]\n",
        "list2=[5,6,7,8]"
      ],
      "execution_count": 24,
      "outputs": []
    },
    {
      "cell_type": "code",
      "metadata": {
        "id": "w8Y-CTkMBbul",
        "colab_type": "code",
        "colab": {}
      },
      "source": [
        "#add list1 to list2\n",
        "list1.extend(list2)"
      ],
      "execution_count": 25,
      "outputs": []
    },
    {
      "cell_type": "code",
      "metadata": {
        "id": "UyjowGZNBxAE",
        "colab_type": "code",
        "colab": {
          "base_uri": "https://localhost:8080/",
          "height": 34
        },
        "outputId": "d215b5b0-0636-41e3-cf12-5f54e92a5aa2"
      },
      "source": [
        "print(list1)"
      ],
      "execution_count": 26,
      "outputs": [
        {
          "output_type": "stream",
          "text": [
            "[1, 2, 3, 4, 5, 6, 7, 8]\n"
          ],
          "name": "stdout"
        }
      ]
    },
    {
      "cell_type": "code",
      "metadata": {
        "id": "Q7ACyj8uB26H",
        "colab_type": "code",
        "colab": {
          "base_uri": "https://localhost:8080/",
          "height": 34
        },
        "outputId": "b0c19be0-d046-4c8f-cc53-987afeb8ebff"
      },
      "source": [
        "#using sum\n",
        "print(sum(list1))"
      ],
      "execution_count": 27,
      "outputs": [
        {
          "output_type": "stream",
          "text": [
            "36\n"
          ],
          "name": "stdout"
        }
      ]
    },
    {
      "cell_type": "markdown",
      "metadata": {
        "id": "3ETb9D9ZETBt",
        "colab_type": "text"
      },
      "source": [
        "DICTIONARY(QUESTION2)"
      ]
    },
    {
      "cell_type": "code",
      "metadata": {
        "id": "v0Hzx4qYCcmy",
        "colab_type": "code",
        "colab": {}
      },
      "source": [
        "dict={1:'cap',2:'bat',3:'ball',4:'rat'}\n",
        "#USING GET FUNCTION"
      ],
      "execution_count": 28,
      "outputs": []
    },
    {
      "cell_type": "code",
      "metadata": {
        "id": "buUjIi8SE9cu",
        "colab_type": "code",
        "colab": {
          "base_uri": "https://localhost:8080/",
          "height": 35
        },
        "outputId": "5bb93891-c451-4fd8-bd38-68d7990b67a9"
      },
      "source": [
        "dict.get(1)"
      ],
      "execution_count": 29,
      "outputs": [
        {
          "output_type": "execute_result",
          "data": {
            "application/vnd.google.colaboratory.intrinsic+json": {
              "type": "string"
            },
            "text/plain": [
              "'cap'"
            ]
          },
          "metadata": {
            "tags": []
          },
          "execution_count": 29
        }
      ]
    },
    {
      "cell_type": "code",
      "metadata": {
        "id": "XazsxSK-Fhok",
        "colab_type": "code",
        "colab": {}
      },
      "source": [
        "#using key funtion"
      ],
      "execution_count": null,
      "outputs": []
    },
    {
      "cell_type": "code",
      "metadata": {
        "id": "p73CIwHBFQ6Q",
        "colab_type": "code",
        "colab": {
          "base_uri": "https://localhost:8080/",
          "height": 34
        },
        "outputId": "17e68eac-290e-44fb-a94d-a1cb55e50466"
      },
      "source": [
        "dict.keys()"
      ],
      "execution_count": 32,
      "outputs": [
        {
          "output_type": "execute_result",
          "data": {
            "text/plain": [
              "dict_keys([1, 2, 3, 4])"
            ]
          },
          "metadata": {
            "tags": []
          },
          "execution_count": 32
        }
      ]
    },
    {
      "cell_type": "code",
      "metadata": {
        "id": "seHw0kAzFmKf",
        "colab_type": "code",
        "colab": {
          "base_uri": "https://localhost:8080/",
          "height": 34
        },
        "outputId": "4423ddd4-fdfd-4a04-efdd-fa23309069f2"
      },
      "source": [
        "#using value function\n",
        "dict.values()"
      ],
      "execution_count": 33,
      "outputs": [
        {
          "output_type": "execute_result",
          "data": {
            "text/plain": [
              "dict_values(['cap', 'bat', 'ball', 'rat'])"
            ]
          },
          "metadata": {
            "tags": []
          },
          "execution_count": 33
        }
      ]
    },
    {
      "cell_type": "code",
      "metadata": {
        "id": "5mCZowQSGA5n",
        "colab_type": "code",
        "colab": {}
      },
      "source": [
        "#using pop function"
      ],
      "execution_count": null,
      "outputs": []
    },
    {
      "cell_type": "code",
      "metadata": {
        "id": "eXlKwraGF4Ei",
        "colab_type": "code",
        "colab": {
          "base_uri": "https://localhost:8080/",
          "height": 35
        },
        "outputId": "baf12b5d-6784-443c-b50f-8da34aac7256"
      },
      "source": [
        "dict.pop(1)"
      ],
      "execution_count": 34,
      "outputs": [
        {
          "output_type": "execute_result",
          "data": {
            "application/vnd.google.colaboratory.intrinsic+json": {
              "type": "string"
            },
            "text/plain": [
              "'cap'"
            ]
          },
          "metadata": {
            "tags": []
          },
          "execution_count": 34
        }
      ]
    },
    {
      "cell_type": "code",
      "metadata": {
        "id": "wVfe9J67GM-4",
        "colab_type": "code",
        "colab": {}
      },
      "source": [
        "#using item function"
      ],
      "execution_count": null,
      "outputs": []
    },
    {
      "cell_type": "code",
      "metadata": {
        "id": "3UOrj9EFGF8W",
        "colab_type": "code",
        "colab": {
          "base_uri": "https://localhost:8080/",
          "height": 34
        },
        "outputId": "d054afbe-2a82-4525-921b-c09d0d2b81d0"
      },
      "source": [
        "dict.items()"
      ],
      "execution_count": 35,
      "outputs": [
        {
          "output_type": "execute_result",
          "data": {
            "text/plain": [
              "dict_items([(2, 'bat'), (3, 'ball'), (4, 'rat')])"
            ]
          },
          "metadata": {
            "tags": []
          },
          "execution_count": 35
        }
      ]
    },
    {
      "cell_type": "code",
      "metadata": {
        "id": "LwJ-6Q9OGUB_",
        "colab_type": "code",
        "colab": {
          "base_uri": "https://localhost:8080/",
          "height": 34
        },
        "outputId": "17a8e6ab-8a98-40a8-bcef-3584f05b34a4"
      },
      "source": [
        "dict.copy()"
      ],
      "execution_count": 36,
      "outputs": [
        {
          "output_type": "execute_result",
          "data": {
            "text/plain": [
              "{2: 'bat', 3: 'ball', 4: 'rat'}"
            ]
          },
          "metadata": {
            "tags": []
          },
          "execution_count": 36
        }
      ]
    },
    {
      "cell_type": "markdown",
      "metadata": {
        "id": "HAIG5b6vGkkP",
        "colab_type": "text"
      },
      "source": [
        "SETS(QUESTION3)"
      ]
    },
    {
      "cell_type": "code",
      "metadata": {
        "id": "9BtZWpEAGtim",
        "colab_type": "code",
        "colab": {}
      },
      "source": [
        "set={1,2,3,4,5,6}"
      ],
      "execution_count": 37,
      "outputs": []
    },
    {
      "cell_type": "code",
      "metadata": {
        "id": "3C0paHTyHVhc",
        "colab_type": "code",
        "colab": {}
      },
      "source": [
        "set.add(7)"
      ],
      "execution_count": 39,
      "outputs": []
    },
    {
      "cell_type": "code",
      "metadata": {
        "id": "6KLpJ0svHkik",
        "colab_type": "code",
        "colab": {
          "base_uri": "https://localhost:8080/",
          "height": 34
        },
        "outputId": "74418434-9fd7-49a2-ccb4-6ca777eef68a"
      },
      "source": [
        "print(set)"
      ],
      "execution_count": 40,
      "outputs": [
        {
          "output_type": "stream",
          "text": [
            "{1, 2, 3, 4, 5, 6, 7}\n"
          ],
          "name": "stdout"
        }
      ]
    },
    {
      "cell_type": "code",
      "metadata": {
        "id": "CYGgYOnnHqF_",
        "colab_type": "code",
        "colab": {}
      },
      "source": [
        "set1={8,9,10,11}"
      ],
      "execution_count": 44,
      "outputs": []
    },
    {
      "cell_type": "markdown",
      "metadata": {
        "id": "WCmt2tRYERnU",
        "colab_type": "text"
      },
      "source": [
        ""
      ]
    }
  ]
}